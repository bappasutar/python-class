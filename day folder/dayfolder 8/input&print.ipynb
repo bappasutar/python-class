{
 "cells": [
  {
   "cell_type": "code",
   "execution_count": 1,
   "metadata": {},
   "outputs": [
    {
     "name": "stdout",
     "output_type": "stream",
     "text": [
      "30\n"
     ]
    }
   ],
   "source": [
    "x = 10\n",
    "y = 20\n",
    "z = x + y\n",
    "print(z)"
   ]
  },
  {
   "cell_type": "code",
   "execution_count": 1,
   "metadata": {},
   "outputs": [
    {
     "name": "stdout",
     "output_type": "stream",
     "text": [
      "Enter Your Name: \n",
      "pawan\n",
      "Your Name is: pawan\n",
      "Thank You\n"
     ]
    }
   ],
   "source": [
    "name = input(\"Enter Your Name: \\n\")\n",
    "print(\"Your Name is:\", name)\n",
    "print(\"Thank You\")"
   ]
  },
  {
   "cell_type": "code",
   "execution_count": 8,
   "metadata": {},
   "outputs": [
    {
     "name": "stdout",
     "output_type": "stream",
     "text": [
      "5\n",
      "6\n",
      "56\n"
     ]
    }
   ],
   "source": [
    "x = input()\n",
    "y = input()\n",
    "z = x + y\n",
    "print(z)"
   ]
  },
  {
   "cell_type": "markdown",
   "metadata": {},
   "source": [
    "# Integer"
   ]
  },
  {
   "cell_type": "code",
   "execution_count": 6,
   "metadata": {},
   "outputs": [
    {
     "name": "stdout",
     "output_type": "stream",
     "text": [
      "Enter The 1st Number: 8\n",
      "Enter The 2nd number: 9\n",
      "17\n"
     ]
    }
   ],
   "source": [
    "x = input(\"Enter The 1st Number: \")\n",
    "a = int(x)\n",
    "y = input(\"Enter The 2nd number: \")\n",
    "b = int(y)\n",
    "z = a + b\n",
    "print(z)"
   ]
  },
  {
   "cell_type": "markdown",
   "metadata": {},
   "source": [
    "# Float"
   ]
  },
  {
   "cell_type": "code",
   "execution_count": 3,
   "metadata": {},
   "outputs": [
    {
     "name": "stdout",
     "output_type": "stream",
     "text": [
      "Enter The 1st Number: 10\n",
      "Enter The 2nd number: 20\n",
      "30.0\n"
     ]
    }
   ],
   "source": [
    "x = input(\"Enter The 1st Number: \")\n",
    "a = float(x)\n",
    "y = input(\"Enter The 2nd number: \")\n",
    "b = float(y)\n",
    "z = a + b\n",
    "print(z)"
   ]
  },
  {
   "cell_type": "markdown",
   "metadata": {},
   "source": [
    "# Print type Change"
   ]
  },
  {
   "cell_type": "code",
   "execution_count": 4,
   "metadata": {
    "scrolled": true
   },
   "outputs": [
    {
     "name": "stdout",
     "output_type": "stream",
     "text": [
      "Enter The 1st Number: 20\n",
      "Enter The 2nd number: 30\n",
      "The Sum of this two Number is:50\n"
     ]
    }
   ],
   "source": [
    "x = input(\"Enter The 1st Number: \")\n",
    "a = int(x)\n",
    "y = input(\"Enter The 2nd number: \")\n",
    "b = int(y)\n",
    "z = a + b\n",
    "print(\"The Sum of this two Number is:\" + str(z))"
   ]
  },
  {
   "cell_type": "markdown",
   "metadata": {},
   "source": [
    "# Type"
   ]
  },
  {
   "cell_type": "code",
   "execution_count": 5,
   "metadata": {},
   "outputs": [
    {
     "name": "stdout",
     "output_type": "stream",
     "text": [
      "Enter The 1st Number: 20\n",
      "<class 'int'>\n",
      "Enter The 1st Number: 30\n",
      "<class 'int'>\n",
      "50\n"
     ]
    }
   ],
   "source": [
    "x = int(input(\"Enter The 1st Number: \"))\n",
    "print(type(x))\n",
    "y = int(input(\"Enter The 1st Number: \"))\n",
    "print(type(x))\n",
    "z = x + y\n",
    "print(z)"
   ]
  },
  {
   "cell_type": "markdown",
   "metadata": {},
   "source": [
    "# End Function"
   ]
  },
  {
   "cell_type": "code",
   "execution_count": 9,
   "metadata": {},
   "outputs": [
    {
     "name": "stdout",
     "output_type": "stream",
     "text": [
      "ankit@debjit\n"
     ]
    }
   ],
   "source": [
    "print('ankit', end = '@')\n",
    "print('debjit')"
   ]
  },
  {
   "cell_type": "code",
   "execution_count": 12,
   "metadata": {},
   "outputs": [
    {
     "name": "stdout",
     "output_type": "stream",
     "text": [
      "Enter Your Name: pawan \n",
      "Enter Your Title: singh\n",
      "Hello  pawan  singh\n"
     ]
    }
   ],
   "source": [
    "x = input(\"Enter Your Name: \")\n",
    "y = input(\"Enter Your Title: \")\n",
    "print(\"Hello\", end = \"  \")\n",
    "z = x +\" \"+ y\n",
    "print(z)"
   ]
  },
  {
   "cell_type": "markdown",
   "metadata": {},
   "source": [
    "# Split Functions"
   ]
  },
  {
   "cell_type": "code",
   "execution_count": 14,
   "metadata": {},
   "outputs": [
    {
     "name": "stdout",
     "output_type": "stream",
     "text": [
      "Enter Your Name: bappa sutar\n",
      "bappa\n"
     ]
    }
   ],
   "source": [
    "x = input('Enter Your Name: ')\n",
    "y = x.split()\n",
    "print(y[0])"
   ]
  },
  {
   "cell_type": "code",
   "execution_count": 19,
   "metadata": {},
   "outputs": [
    {
     "name": "stdout",
     "output_type": "stream",
     "text": [
      "Enter Your Email: bjsbdfkjdgfb@mbvxzn\n",
      "bjsbdfkjdgfb\n"
     ]
    }
   ],
   "source": [
    "x = input('Enter Your Email: ')\n",
    "y = x.split('@')\n",
    "print(y[0])"
   ]
  },
  {
   "cell_type": "markdown",
   "metadata": {},
   "source": [
    "# Evaluate Functions"
   ]
  },
  {
   "cell_type": "code",
   "execution_count": 24,
   "metadata": {},
   "outputs": [
    {
     "data": {
      "text/plain": [
       "124"
      ]
     },
     "execution_count": 24,
     "metadata": {},
     "output_type": "execute_result"
    }
   ],
   "source": [
    "lis = [4,8,9, 6,89,8]\n",
    "s = \"sum\"\n",
    "su = eval(s)\n",
    "su(lis)"
   ]
  },
  {
   "cell_type": "code",
   "execution_count": 31,
   "metadata": {},
   "outputs": [
    {
     "data": {
      "text/plain": [
       "124"
      ]
     },
     "execution_count": 31,
     "metadata": {},
     "output_type": "execute_result"
    }
   ],
   "source": [
    "lis = [4,8,9, 6,89,8]\n",
    "sum(lis)"
   ]
  },
  {
   "cell_type": "code",
   "execution_count": 29,
   "metadata": {},
   "outputs": [
    {
     "name": "stdout",
     "output_type": "stream",
     "text": [
      "Enter The Expression: 8+7+3\n",
      "18\n"
     ]
    }
   ],
   "source": [
    "value = eval(input('Enter The Expression: '))\n",
    "print(value)"
   ]
  },
  {
   "cell_type": "code",
   "execution_count": 35,
   "metadata": {},
   "outputs": [
    {
     "name": "stdout",
     "output_type": "stream",
     "text": [
      "Enter The 1st Number: 33\n",
      "Enter The 2nd number: 44\n",
      "The Sum of 33 and 44 is 77\n"
     ]
    }
   ],
   "source": [
    "num1 = int(input(\"Enter The 1st Number: \"))\n",
    "num2 = int(input(\"Enter The 2nd number: \"))\n",
    "print(f\"The Sum of {num1} and {num2} is {num1 + num2}\")"
   ]
  },
  {
   "cell_type": "markdown",
   "metadata": {},
   "source": [
    "# Print Functions"
   ]
  },
  {
   "cell_type": "code",
   "execution_count": 37,
   "metadata": {},
   "outputs": [
    {
     "name": "stdout",
     "output_type": "stream",
     "text": [
      "Hello @dipesh\n"
     ]
    }
   ],
   "source": [
    "print(\"Hello\", end = \"  \")\n",
    "print(\"dipesh\")"
   ]
  },
  {
   "cell_type": "markdown",
   "metadata": {},
   "source": [
    "### Definition and Usage\n",
    "The print() function prints the specified message to the screen, or other standard output device.\n",
    "\n",
    "The message can be a string, or any other object, the object will be converted into a string before written to the screen."
   ]
  },
  {
   "cell_type": "markdown",
   "metadata": {},
   "source": [
    "## Syntax\n",
    "print(object(s), sep=separator, end=end, file=file, flush=flush)"
   ]
  },
  {
   "cell_type": "code",
   "execution_count": 13,
   "metadata": {},
   "outputs": [
    {
     "name": "stdout",
     "output_type": "stream",
     "text": [
      "Hello how are you?\n"
     ]
    }
   ],
   "source": [
    "print(\"Hello\", \"how are you?\")"
   ]
  },
  {
   "cell_type": "code",
   "execution_count": 20,
   "metadata": {},
   "outputs": [
    {
     "name": "stdout",
     "output_type": "stream",
     "text": [
      "('apple', 'banana', 'cherry')\n"
     ]
    }
   ],
   "source": [
    "x = (\"apple\", \"banana\", \"cherry\")\n",
    "print(x)"
   ]
  },
  {
   "cell_type": "markdown",
   "metadata": {},
   "source": [
    "## More about the Print Functions\n",
    "- format\n",
    "- end and step"
   ]
  },
  {
   "cell_type": "code",
   "execution_count": 39,
   "metadata": {},
   "outputs": [
    {
     "name": "stdout",
     "output_type": "stream",
     "text": [
      "Indian Cyber Security\n"
     ]
    }
   ],
   "source": [
    "print(\"Indian\", \"Cyber\", \"Security\" , end='\\n',)"
   ]
  },
  {
   "cell_type": "code",
   "execution_count": 42,
   "metadata": {},
   "outputs": [
    {
     "name": "stdout",
     "output_type": "stream",
     "text": [
      "Indian@Cyber@Security\n"
     ]
    }
   ],
   "source": [
    "print(\"Indian\", \"Cyber\", \"Security\", sep='@')"
   ]
  },
  {
   "cell_type": "code",
   "execution_count": 44,
   "metadata": {},
   "outputs": [
    {
     "name": "stdout",
     "output_type": "stream",
     "text": [
      "Indian Cyber security\n"
     ]
    }
   ],
   "source": [
    "a = \"Indian\"\n",
    "b = \"Cyber\"\n",
    "c = \"security\"\n",
    "print(a, end = \" \")\n",
    "print(b, end = \" \")\n",
    "print(c)"
   ]
  },
  {
   "cell_type": "code",
   "execution_count": 22,
   "metadata": {},
   "outputs": [
    {
     "name": "stdout",
     "output_type": "stream",
     "text": [
      "My institute name is Indian Cyber security\n"
     ]
    }
   ],
   "source": [
    "a = \"Indian\"\n",
    "b = \"Cyber\"\n",
    "c = \"security\"\n",
    "print(\"My institute name is {} {} {}\".format(a, b, c))"
   ]
  },
  {
   "cell_type": "code",
   "execution_count": null,
   "metadata": {},
   "outputs": [],
   "source": [
    "num1 = int(input(\"Enter The 1st Number: \"))\n",
    "num2 = int(input(\"Enter The 2nd number: \"))\n",
    "print(f\"The Sum of {num1} and {num2} is {num1 + num2}\")"
   ]
  },
  {
   "cell_type": "code",
   "execution_count": null,
   "metadata": {},
   "outputs": [],
   "source": []
  }
 ],
 "metadata": {
  "kernelspec": {
   "display_name": "Python 3",
   "language": "python",
   "name": "python3"
  },
  "language_info": {
   "codemirror_mode": {
    "name": "ipython",
    "version": 3
   },
   "file_extension": ".py",
   "mimetype": "text/x-python",
   "name": "python",
   "nbconvert_exporter": "python",
   "pygments_lexer": "ipython3",
   "version": "3.8.5"
  }
 },
 "nbformat": 4,
 "nbformat_minor": 4
}
